{
  "nbformat": 4,
  "nbformat_minor": 0,
  "metadata": {
    "colab": {
      "name": "requests",
      "provenance": [],
      "collapsed_sections": []
    },
    "kernelspec": {
      "name": "python3",
      "display_name": "Python 3"
    }
  },
  "cells": [
    {
      "cell_type": "code",
      "metadata": {
        "id": "t_lqU_w1L_BF",
        "colab_type": "code",
        "colab": {}
      },
      "source": [
        "import requests\n",
        "import json"
      ],
      "execution_count": 7,
      "outputs": []
    },
    {
      "cell_type": "code",
      "metadata": {
        "id": "Th_p0ioZMImh",
        "colab_type": "code",
        "colab": {
          "base_uri": "https://localhost:8080/",
          "height": 235
        },
        "outputId": "a3059fac-dce1-480b-d396-98f6127353a7"
      },
      "source": [
        "r = requests.get('http://httpbin.org/get')\n",
        "print(r.text)"
      ],
      "execution_count": 3,
      "outputs": [
        {
          "output_type": "stream",
          "text": [
            "{\n",
            "  \"args\": {}, \n",
            "  \"headers\": {\n",
            "    \"Accept\": \"*/*\", \n",
            "    \"Accept-Encoding\": \"gzip, deflate\", \n",
            "    \"Host\": \"httpbin.org\", \n",
            "    \"User-Agent\": \"python-requests/2.23.0\", \n",
            "    \"X-Amzn-Trace-Id\": \"Root=1-5f25b430-c9b99233b2c5e6135fefa87e\"\n",
            "  }, \n",
            "  \"origin\": \"35.221.196.188\", \n",
            "  \"url\": \"http://httpbin.org/get\"\n",
            "}\n",
            "\n"
          ],
          "name": "stdout"
        }
      ]
    },
    {
      "cell_type": "code",
      "metadata": {
        "id": "QCXl3RiTR3rE",
        "colab_type": "code",
        "colab": {
          "base_uri": "https://localhost:8080/",
          "height": 319
        },
        "outputId": "de9f4412-8b00-4c07-bc51-2f893f65616e"
      },
      "source": [
        "r = requests.post('http://httpbin.org/post')\n",
        "print(r.text)"
      ],
      "execution_count": 4,
      "outputs": [
        {
          "output_type": "stream",
          "text": [
            "{\n",
            "  \"args\": {}, \n",
            "  \"data\": \"\", \n",
            "  \"files\": {}, \n",
            "  \"form\": {}, \n",
            "  \"headers\": {\n",
            "    \"Accept\": \"*/*\", \n",
            "    \"Accept-Encoding\": \"gzip, deflate\", \n",
            "    \"Content-Length\": \"0\", \n",
            "    \"Host\": \"httpbin.org\", \n",
            "    \"User-Agent\": \"python-requests/2.23.0\", \n",
            "    \"X-Amzn-Trace-Id\": \"Root=1-5f25b44c-12b0d24a4773c42e7e1efcaa\"\n",
            "  }, \n",
            "  \"json\": null, \n",
            "  \"origin\": \"35.221.196.188\", \n",
            "  \"url\": \"http://httpbin.org/post\"\n",
            "}\n",
            "\n"
          ],
          "name": "stdout"
        }
      ]
    },
    {
      "cell_type": "code",
      "metadata": {
        "id": "S4Yrew1PSG5Y",
        "colab_type": "code",
        "colab": {
          "base_uri": "https://localhost:8080/",
          "height": 286
        },
        "outputId": "50c39e7d-f7b1-44ab-ab5d-5ec319a91bce"
      },
      "source": [
        "# Passing Parameters\n",
        "payload = {'key1': 'value1', 'key2': 'value2'}\n",
        "r = requests.get('http://httpbin.org/get', params=payload)\n",
        "print(r.text)"
      ],
      "execution_count": 5,
      "outputs": [
        {
          "output_type": "stream",
          "text": [
            "{\n",
            "  \"args\": {\n",
            "    \"key1\": \"value1\", \n",
            "    \"key2\": \"value2\"\n",
            "  }, \n",
            "  \"headers\": {\n",
            "    \"Accept\": \"*/*\", \n",
            "    \"Accept-Encoding\": \"gzip, deflate\", \n",
            "    \"Host\": \"httpbin.org\", \n",
            "    \"User-Agent\": \"python-requests/2.23.0\", \n",
            "    \"X-Amzn-Trace-Id\": \"Root=1-5f25b45d-848b04ed3900f944b81583af\"\n",
            "  }, \n",
            "  \"origin\": \"35.221.196.188\", \n",
            "  \"url\": \"http://httpbin.org/get?key1=value1&key2=value2\"\n",
            "}\n",
            "\n"
          ],
          "name": "stdout"
        }
      ]
    },
    {
      "cell_type": "code",
      "metadata": {
        "id": "RpBAGAdFSLNG",
        "colab_type": "code",
        "colab": {
          "base_uri": "https://localhost:8080/",
          "height": 370
        },
        "outputId": "583c23f3-440d-4459-c0b6-17a1b4c29c60"
      },
      "source": [
        "r = requests.put('http://httpbin.org/put', data = {'key':'value'})\n",
        "print(r.text)"
      ],
      "execution_count": 6,
      "outputs": [
        {
          "output_type": "stream",
          "text": [
            "{\n",
            "  \"args\": {}, \n",
            "  \"data\": \"\", \n",
            "  \"files\": {}, \n",
            "  \"form\": {\n",
            "    \"key\": \"value\"\n",
            "  }, \n",
            "  \"headers\": {\n",
            "    \"Accept\": \"*/*\", \n",
            "    \"Accept-Encoding\": \"gzip, deflate\", \n",
            "    \"Content-Length\": \"9\", \n",
            "    \"Content-Type\": \"application/x-www-form-urlencoded\", \n",
            "    \"Host\": \"httpbin.org\", \n",
            "    \"User-Agent\": \"python-requests/2.23.0\", \n",
            "    \"X-Amzn-Trace-Id\": \"Root=1-5f25b486-2b8fd5ed31c3f4698e2366c6\"\n",
            "  }, \n",
            "  \"json\": null, \n",
            "  \"origin\": \"35.221.196.188\", \n",
            "  \"url\": \"http://httpbin.org/put\"\n",
            "}\n",
            "\n"
          ],
          "name": "stdout"
        }
      ]
    },
    {
      "cell_type": "code",
      "metadata": {
        "id": "ZrswdfYgSVN5",
        "colab_type": "code",
        "colab": {
          "base_uri": "https://localhost:8080/",
          "height": 370
        },
        "outputId": "edcd114c-93a6-4bb4-d2ae-461ac7cee798"
      },
      "source": [
        "url = 'http://httpbin.org/post'\n",
        "r = requests.post(url, data=json.dumps({'key':'value'}))\n",
        "r = requests.post(url, json={'key':'value'})\n",
        "print(r.text)"
      ],
      "execution_count": 8,
      "outputs": [
        {
          "output_type": "stream",
          "text": [
            "{\n",
            "  \"args\": {}, \n",
            "  \"data\": \"{\\\"key\\\": \\\"value\\\"}\", \n",
            "  \"files\": {}, \n",
            "  \"form\": {}, \n",
            "  \"headers\": {\n",
            "    \"Accept\": \"*/*\", \n",
            "    \"Accept-Encoding\": \"gzip, deflate\", \n",
            "    \"Content-Length\": \"16\", \n",
            "    \"Content-Type\": \"application/json\", \n",
            "    \"Host\": \"httpbin.org\", \n",
            "    \"User-Agent\": \"python-requests/2.23.0\", \n",
            "    \"X-Amzn-Trace-Id\": \"Root=1-5f25b4b9-e5208a99886a5bb723d09755\"\n",
            "  }, \n",
            "  \"json\": {\n",
            "    \"key\": \"value\"\n",
            "  }, \n",
            "  \"origin\": \"35.221.196.188\", \n",
            "  \"url\": \"http://httpbin.org/post\"\n",
            "}\n",
            "\n"
          ],
          "name": "stdout"
        }
      ]
    },
    {
      "cell_type": "code",
      "metadata": {
        "id": "LFB1WDVxShhk",
        "colab_type": "code",
        "colab": {}
      },
      "source": [
        "# POST a Multipart-Encoded File\n",
        "url = 'http://httpbin.org/post'\n",
        "files = {'file': \n",
        "         ('test.txt', \n",
        "          open('/test.txt', \n",
        "               'rb'))}\n",
        "\n",
        "r = requests.post(url, files=files)\n",
        "print(r.text)"
      ],
      "execution_count": null,
      "outputs": []
    },
    {
      "cell_type": "code",
      "metadata": {
        "id": "o2faeXnlSuQq",
        "colab_type": "code",
        "colab": {
          "base_uri": "https://localhost:8080/",
          "height": 235
        },
        "outputId": "4cc49b25-b5eb-466c-95c4-34aee6d9cc3d"
      },
      "source": [
        "# Headers\n",
        "url = 'http://httpbin.org/get'\n",
        "headers = {'user-agent': 'my-app/0.0.1'}\n",
        "\n",
        "r = requests.get(url, headers=headers)\n",
        "print(r.text)"
      ],
      "execution_count": 10,
      "outputs": [
        {
          "output_type": "stream",
          "text": [
            "{\n",
            "  \"args\": {}, \n",
            "  \"headers\": {\n",
            "    \"Accept\": \"*/*\", \n",
            "    \"Accept-Encoding\": \"gzip, deflate\", \n",
            "    \"Host\": \"httpbin.org\", \n",
            "    \"User-Agent\": \"my-app/0.0.1\", \n",
            "    \"X-Amzn-Trace-Id\": \"Root=1-5f25b64b-24559de59cdbe98cb12befce\"\n",
            "  }, \n",
            "  \"origin\": \"35.221.196.188\", \n",
            "  \"url\": \"http://httpbin.org/get\"\n",
            "}\n",
            "\n"
          ],
          "name": "stdout"
        }
      ]
    },
    {
      "cell_type": "code",
      "metadata": {
        "id": "8qRsyCkdUDwd",
        "colab_type": "code",
        "colab": {
          "base_uri": "https://localhost:8080/",
          "height": 322
        },
        "outputId": "d9e27eb4-5638-47c1-8f51-ddc331d39a26"
      },
      "source": [
        "# Response Content\n",
        "r = requests.get('http://httpbin.org/get')\n",
        "print(type(r.text), r.text)\n",
        "print()\n",
        "print(type(r.content), r.content)\n",
        "print()\n",
        "print(type(r.json()), r.json())"
      ],
      "execution_count": 12,
      "outputs": [
        {
          "output_type": "stream",
          "text": [
            "<class 'str'> {\n",
            "  \"args\": {}, \n",
            "  \"headers\": {\n",
            "    \"Accept\": \"*/*\", \n",
            "    \"Accept-Encoding\": \"gzip, deflate\", \n",
            "    \"Host\": \"httpbin.org\", \n",
            "    \"User-Agent\": \"python-requests/2.23.0\", \n",
            "    \"X-Amzn-Trace-Id\": \"Root=1-5f25b689-dc36a5124ee4f1f03dcaf934\"\n",
            "  }, \n",
            "  \"origin\": \"35.221.196.188\", \n",
            "  \"url\": \"http://httpbin.org/get\"\n",
            "}\n",
            "\n",
            "\n",
            "<class 'bytes'> b'{\\n  \"args\": {}, \\n  \"headers\": {\\n    \"Accept\": \"*/*\", \\n    \"Accept-Encoding\": \"gzip, deflate\", \\n    \"Host\": \"httpbin.org\", \\n    \"User-Agent\": \"python-requests/2.23.0\", \\n    \"X-Amzn-Trace-Id\": \"Root=1-5f25b689-dc36a5124ee4f1f03dcaf934\"\\n  }, \\n  \"origin\": \"35.221.196.188\", \\n  \"url\": \"http://httpbin.org/get\"\\n}\\n'\n",
            "\n",
            "<class 'dict'> {'args': {}, 'headers': {'Accept': '*/*', 'Accept-Encoding': 'gzip, deflate', 'Host': 'httpbin.org', 'User-Agent': 'python-requests/2.23.0', 'X-Amzn-Trace-Id': 'Root=1-5f25b689-dc36a5124ee4f1f03dcaf934'}, 'origin': '35.221.196.188', 'url': 'http://httpbin.org/get'}\n"
          ],
          "name": "stdout"
        }
      ]
    },
    {
      "cell_type": "code",
      "metadata": {
        "id": "uoKPzJFYUOAM",
        "colab_type": "code",
        "colab": {
          "base_uri": "https://localhost:8080/",
          "height": 50
        },
        "outputId": "6a316138-a404-41c8-d173-81005dec69d0"
      },
      "source": [
        "# # Response Status Codes\n",
        "print(r.status_code)\n",
        "print(r.status_code == requests.codes.ok)"
      ],
      "execution_count": 13,
      "outputs": [
        {
          "output_type": "stream",
          "text": [
            "200\n",
            "True\n"
          ],
          "name": "stdout"
        }
      ]
    },
    {
      "cell_type": "code",
      "metadata": {
        "id": "Wj-yImV4UoGf",
        "colab_type": "code",
        "colab": {
          "base_uri": "https://localhost:8080/",
          "height": 330
        },
        "outputId": "a6bedff4-6ccd-4bea-d668-dc64f7fe8284"
      },
      "source": [
        "bad_r = requests.get('http://httpbin.org/status/404')\n",
        "print(bad_r.status_code)\n",
        "bad_r.raise_for_status()"
      ],
      "execution_count": 14,
      "outputs": [
        {
          "output_type": "stream",
          "text": [
            "404\n"
          ],
          "name": "stdout"
        },
        {
          "output_type": "error",
          "ename": "HTTPError",
          "evalue": "ignored",
          "traceback": [
            "\u001b[0;31m---------------------------------------------------------------------------\u001b[0m",
            "\u001b[0;31mHTTPError\u001b[0m                                 Traceback (most recent call last)",
            "\u001b[0;32m<ipython-input-14-c5a29ad7cd75>\u001b[0m in \u001b[0;36m<module>\u001b[0;34m()\u001b[0m\n\u001b[1;32m      1\u001b[0m \u001b[0mbad_r\u001b[0m \u001b[0;34m=\u001b[0m \u001b[0mrequests\u001b[0m\u001b[0;34m.\u001b[0m\u001b[0mget\u001b[0m\u001b[0;34m(\u001b[0m\u001b[0;34m'http://httpbin.org/status/404'\u001b[0m\u001b[0;34m)\u001b[0m\u001b[0;34m\u001b[0m\u001b[0;34m\u001b[0m\u001b[0m\n\u001b[1;32m      2\u001b[0m \u001b[0mprint\u001b[0m\u001b[0;34m(\u001b[0m\u001b[0mbad_r\u001b[0m\u001b[0;34m.\u001b[0m\u001b[0mstatus_code\u001b[0m\u001b[0;34m)\u001b[0m\u001b[0;34m\u001b[0m\u001b[0;34m\u001b[0m\u001b[0m\n\u001b[0;32m----> 3\u001b[0;31m \u001b[0mbad_r\u001b[0m\u001b[0;34m.\u001b[0m\u001b[0mraise_for_status\u001b[0m\u001b[0;34m(\u001b[0m\u001b[0;34m)\u001b[0m\u001b[0;34m\u001b[0m\u001b[0;34m\u001b[0m\u001b[0m\n\u001b[0m",
            "\u001b[0;32m/usr/local/lib/python3.6/dist-packages/requests/models.py\u001b[0m in \u001b[0;36mraise_for_status\u001b[0;34m(self)\u001b[0m\n\u001b[1;32m    939\u001b[0m \u001b[0;34m\u001b[0m\u001b[0m\n\u001b[1;32m    940\u001b[0m         \u001b[0;32mif\u001b[0m \u001b[0mhttp_error_msg\u001b[0m\u001b[0;34m:\u001b[0m\u001b[0;34m\u001b[0m\u001b[0;34m\u001b[0m\u001b[0m\n\u001b[0;32m--> 941\u001b[0;31m             \u001b[0;32mraise\u001b[0m \u001b[0mHTTPError\u001b[0m\u001b[0;34m(\u001b[0m\u001b[0mhttp_error_msg\u001b[0m\u001b[0;34m,\u001b[0m \u001b[0mresponse\u001b[0m\u001b[0;34m=\u001b[0m\u001b[0mself\u001b[0m\u001b[0;34m)\u001b[0m\u001b[0;34m\u001b[0m\u001b[0;34m\u001b[0m\u001b[0m\n\u001b[0m\u001b[1;32m    942\u001b[0m \u001b[0;34m\u001b[0m\u001b[0m\n\u001b[1;32m    943\u001b[0m     \u001b[0;32mdef\u001b[0m \u001b[0mclose\u001b[0m\u001b[0;34m(\u001b[0m\u001b[0mself\u001b[0m\u001b[0;34m)\u001b[0m\u001b[0;34m:\u001b[0m\u001b[0;34m\u001b[0m\u001b[0;34m\u001b[0m\u001b[0m\n",
            "\u001b[0;31mHTTPError\u001b[0m: 404 Client Error: NOT FOUND for url: http://httpbin.org/status/404"
          ]
        }
      ]
    },
    {
      "cell_type": "code",
      "metadata": {
        "id": "e-uezn72UrYa",
        "colab_type": "code",
        "colab": {
          "base_uri": "https://localhost:8080/",
          "height": 54
        },
        "outputId": "5e9428f3-3d4f-40f0-a4be-37cf98315eed"
      },
      "source": [
        "# Response Headers\n",
        "print(r.headers)"
      ],
      "execution_count": 15,
      "outputs": [
        {
          "output_type": "stream",
          "text": [
            "{'Date': 'Sat, 01 Aug 2020 18:38:01 GMT', 'Content-Type': 'application/json', 'Content-Length': '307', 'Connection': 'keep-alive', 'Server': 'gunicorn/19.9.0', 'Access-Control-Allow-Origin': '*', 'Access-Control-Allow-Credentials': 'true'}\n"
          ],
          "name": "stdout"
        }
      ]
    },
    {
      "cell_type": "code",
      "metadata": {
        "id": "JQ-Ixv9gUug5",
        "colab_type": "code",
        "colab": {
          "base_uri": "https://localhost:8080/",
          "height": 67
        },
        "outputId": "999b039e-405c-42ea-c405-298a58ab6e2a"
      },
      "source": [
        "# Redirection and History\n",
        "r = requests.get('http://github.com')\n",
        "print(r.url)\n",
        "print(r.status_code)\n",
        "print(r.history)"
      ],
      "execution_count": 16,
      "outputs": [
        {
          "output_type": "stream",
          "text": [
            "https://github.com/\n",
            "200\n",
            "[<Response [301]>]\n"
          ],
          "name": "stdout"
        }
      ]
    },
    {
      "cell_type": "code",
      "metadata": {
        "id": "YjMrB-CtUzms",
        "colab_type": "code",
        "colab": {
          "base_uri": "https://localhost:8080/",
          "height": 50
        },
        "outputId": "f7b05b44-b70a-4295-d9eb-f346a080ad3e"
      },
      "source": [
        "r = requests.get('http://github.com', allow_redirects=False)\n",
        "print(r.status_code)\n",
        "print(r.history)"
      ],
      "execution_count": 17,
      "outputs": [
        {
          "output_type": "stream",
          "text": [
            "301\n",
            "[]\n"
          ],
          "name": "stdout"
        }
      ]
    },
    {
      "cell_type": "code",
      "metadata": {
        "id": "BHonSFV2U5jD",
        "colab_type": "code",
        "colab": {
          "base_uri": "https://localhost:8080/",
          "height": 118
        },
        "outputId": "be3181f9-9c0d-4d43-f0df-be69d2252e9a"
      },
      "source": [
        "# Cookies\n",
        "url = 'http://httpbin.org/cookies'\n",
        "cookies = dict(cookies_are='working')\n",
        "r = requests.get(url, cookies=cookies)\n",
        "print(r.text)"
      ],
      "execution_count": 19,
      "outputs": [
        {
          "output_type": "stream",
          "text": [
            "{\n",
            "  \"cookies\": {\n",
            "    \"cookies_are\": \"working\"\n",
            "  }\n",
            "}\n",
            "\n"
          ],
          "name": "stdout"
        }
      ]
    },
    {
      "cell_type": "code",
      "metadata": {
        "id": "CPwHavV5U_i-",
        "colab_type": "code",
        "colab": {
          "base_uri": "https://localhost:8080/",
          "height": 134
        },
        "outputId": "3571577f-ff76-4503-b6a5-d9af320a4e7f"
      },
      "source": [
        "# Session Objects\n",
        "s = requests.Session()\n",
        "s.get('http://httpbin.org/cookies/set/sessioncookie/123456789')\n",
        "r = s.get('http://httpbin.org/cookies')\n",
        "print(s.cookies)\n",
        "print(r.text)"
      ],
      "execution_count": 20,
      "outputs": [
        {
          "output_type": "stream",
          "text": [
            "<RequestsCookieJar[<Cookie sessioncookie=123456789 for httpbin.org/>]>\n",
            "{\n",
            "  \"cookies\": {\n",
            "    \"sessioncookie\": \"123456789\"\n",
            "  }\n",
            "}\n",
            "\n"
          ],
          "name": "stdout"
        }
      ]
    },
    {
      "cell_type": "code",
      "metadata": {
        "id": "YiNIn0MrVJNM",
        "colab_type": "code",
        "colab": {
          "base_uri": "https://localhost:8080/",
          "height": 218
        },
        "outputId": "00b5cd67-d6ed-445d-a17d-66cab7d0b72d"
      },
      "source": [
        "s = requests.Session()\n",
        "s.headers.update({'x-test': 'true'})\n",
        "r = s.get('http://httpbin.org/headers', headers={'x-test2': 'true'})\n",
        "print(r.text)"
      ],
      "execution_count": 21,
      "outputs": [
        {
          "output_type": "stream",
          "text": [
            "{\n",
            "  \"headers\": {\n",
            "    \"Accept\": \"*/*\", \n",
            "    \"Accept-Encoding\": \"gzip, deflate\", \n",
            "    \"Host\": \"httpbin.org\", \n",
            "    \"User-Agent\": \"python-requests/2.23.0\", \n",
            "    \"X-Amzn-Trace-Id\": \"Root=1-5f25b782-1000d5c8592ab1b94d96b235\", \n",
            "    \"X-Test\": \"true\", \n",
            "    \"X-Test2\": \"true\"\n",
            "  }\n",
            "}\n",
            "\n"
          ],
          "name": "stdout"
        }
      ]
    }
  ]
}