{
  "nbformat": 4,
  "nbformat_minor": 0,
  "metadata": {
    "colab": {
      "name": "Web-API.ipynb",
      "provenance": []
    },
    "kernelspec": {
      "name": "python3",
      "display_name": "Python 3"
    }
  },
  "cells": [
    {
      "cell_type": "markdown",
      "metadata": {
        "id": "yQ_TKCi6WMEO",
        "colab_type": "text"
      },
      "source": [
        "#ЦБРФ \n",
        "https://www.cbr.ru/development/SXML/"
      ]
    },
    {
      "cell_type": "code",
      "metadata": {
        "id": "eHHacy7kFnva",
        "colab_type": "code",
        "colab": {
          "base_uri": "https://localhost:8080/",
          "height": 70
        },
        "outputId": "b478c666-b5bd-4f4f-bb96-c25dff85a7a0"
      },
      "source": [
        "import requests\n",
        "from bs4 import BeautifulSoup\n",
        "\n",
        "resp = requests.get(\"http://www.cbr.ru/scripts/XML_daily.asp\")\n",
        "soup = BeautifulSoup(resp.content, \"xml\")\n",
        "soup"
      ],
      "execution_count": 2,
      "outputs": [
        {
          "output_type": "execute_result",
          "data": {
            "text/plain": [
              "<?xml version=\"1.0\" encoding=\"utf-8\"?>\n",
              "<ValCurs Date=\"05.08.2020\" name=\"Foreign Currency Market\"><Valute ID=\"R01010\"><NumCode>036</NumCode><CharCode>AUD</CharCode><Nominal>1</Nominal><Name>Австралийский доллар</Name><Value>52,3791</Value></Valute><Valute ID=\"R01020A\"><NumCode>944</NumCode><CharCode>AZN</CharCode><Nominal>1</Nominal><Name>Азербайджанский манат</Name><Value>43,1905</Value></Valute><Valute ID=\"R01035\"><NumCode>826</NumCode><CharCode>GBP</CharCode><Nominal>1</Nominal><Name>Фунт стерлингов Соединенного королевства</Name><Value>95,8130</Value></Valute><Valute ID=\"R01060\"><NumCode>051</NumCode><CharCode>AMD</CharCode><Nominal>100</Nominal><Name>Армянских драмов</Name><Value>15,1144</Value></Valute><Valute ID=\"R01090B\"><NumCode>933</NumCode><CharCode>BYN</CharCode><Nominal>1</Nominal><Name>Белорусский рубль</Name><Value>30,0359</Value></Valute><Valute ID=\"R01100\"><NumCode>975</NumCode><CharCode>BGN</CharCode><Nominal>1</Nominal><Name>Болгарский лев</Name><Value>44,2078</Value></Valute><Valute ID=\"R01115\"><NumCode>986</NumCode><CharCode>BRL</CharCode><Nominal>1</Nominal><Name>Бразильский реал</Name><Value>13,7920</Value></Valute><Valute ID=\"R01135\"><NumCode>348</NumCode><CharCode>HUF</CharCode><Nominal>100</Nominal><Name>Венгерских форинтов</Name><Value>25,0801</Value></Valute><Valute ID=\"R01200\"><NumCode>344</NumCode><CharCode>HKD</CharCode><Nominal>10</Nominal><Name>Гонконгских долларов</Name><Value>94,6834</Value></Valute><Valute ID=\"R01215\"><NumCode>208</NumCode><CharCode>DKK</CharCode><Nominal>1</Nominal><Name>Датская крона</Name><Value>11,6121</Value></Valute><Valute ID=\"R01235\"><NumCode>840</NumCode><CharCode>USD</CharCode><Nominal>1</Nominal><Name>Доллар США</Name><Value>73,3806</Value></Valute><Valute ID=\"R01239\"><NumCode>978</NumCode><CharCode>EUR</CharCode><Nominal>1</Nominal><Name>Евро</Name><Value>86,5011</Value></Valute><Valute ID=\"R01270\"><NumCode>356</NumCode><CharCode>INR</CharCode><Nominal>100</Nominal><Name>Индийских рупий</Name><Value>97,7690</Value></Valute><Valute ID=\"R01335\"><NumCode>398</NumCode><CharCode>KZT</CharCode><Nominal>100</Nominal><Name>Казахстанских тенге</Name><Value>17,4807</Value></Valute><Valute ID=\"R01350\"><NumCode>124</NumCode><CharCode>CAD</CharCode><Nominal>1</Nominal><Name>Канадский доллар</Name><Value>54,8476</Value></Valute><Valute ID=\"R01370\"><NumCode>417</NumCode><CharCode>KGS</CharCode><Nominal>100</Nominal><Name>Киргизских сомов</Name><Value>95,4602</Value></Valute><Valute ID=\"R01375\"><NumCode>156</NumCode><CharCode>CNY</CharCode><Nominal>1</Nominal><Name>Китайский юань</Name><Value>10,5091</Value></Valute><Valute ID=\"R01500\"><NumCode>498</NumCode><CharCode>MDL</CharCode><Nominal>10</Nominal><Name>Молдавских леев</Name><Value>44,1653</Value></Valute><Valute ID=\"R01535\"><NumCode>578</NumCode><CharCode>NOK</CharCode><Nominal>10</Nominal><Name>Норвежских крон</Name><Value>80,3291</Value></Valute><Valute ID=\"R01565\"><NumCode>985</NumCode><CharCode>PLN</CharCode><Nominal>1</Nominal><Name>Польский злотый</Name><Value>19,6221</Value></Valute><Valute ID=\"R01585F\"><NumCode>946</NumCode><CharCode>RON</CharCode><Nominal>1</Nominal><Name>Румынский лей</Name><Value>17,8829</Value></Valute><Valute ID=\"R01589\"><NumCode>960</NumCode><CharCode>XDR</CharCode><Nominal>1</Nominal><Name>СДР (специальные права заимствования)</Name><Value>103,1489</Value></Valute><Valute ID=\"R01625\"><NumCode>702</NumCode><CharCode>SGD</CharCode><Nominal>1</Nominal><Name>Сингапурский доллар</Name><Value>53,3522</Value></Valute><Valute ID=\"R01670\"><NumCode>972</NumCode><CharCode>TJS</CharCode><Nominal>10</Nominal><Name>Таджикских сомони</Name><Value>71,1397</Value></Valute><Valute ID=\"R01700J\"><NumCode>949</NumCode><CharCode>TRY</CharCode><Nominal>1</Nominal><Name>Турецкая лира</Name><Value>10,5361</Value></Valute><Valute ID=\"R01710A\"><NumCode>934</NumCode><CharCode>TMT</CharCode><Nominal>1</Nominal><Name>Новый туркменский манат</Name><Value>20,9959</Value></Valute><Valute ID=\"R01717\"><NumCode>860</NumCode><CharCode>UZS</CharCode><Nominal>10000</Nominal><Name>Узбекских сумов</Name><Value>71,8713</Value></Valute><Valute ID=\"R01720\"><NumCode>980</NumCode><CharCode>UAH</CharCode><Nominal>10</Nominal><Name>Украинских гривен</Name><Value>26,3674</Value></Valute><Valute ID=\"R01760\"><NumCode>203</NumCode><CharCode>CZK</CharCode><Nominal>10</Nominal><Name>Чешских крон</Name><Value>32,9563</Value></Valute><Valute ID=\"R01770\"><NumCode>752</NumCode><CharCode>SEK</CharCode><Nominal>10</Nominal><Name>Шведских крон</Name><Value>83,9460</Value></Valute><Valute ID=\"R01775\"><NumCode>756</NumCode><CharCode>CHF</CharCode><Nominal>1</Nominal><Name>Швейцарский франк</Name><Value>80,0661</Value></Valute><Valute ID=\"R01810\"><NumCode>710</NumCode><CharCode>ZAR</CharCode><Nominal>10</Nominal><Name>Южноафриканских рэндов</Name><Value>42,5207</Value></Valute><Valute ID=\"R01815\"><NumCode>410</NumCode><CharCode>KRW</CharCode><Nominal>1000</Nominal><Name>Вон Республики Корея</Name><Value>61,4562</Value></Valute><Valute ID=\"R01820\"><NumCode>392</NumCode><CharCode>JPY</CharCode><Nominal>100</Nominal><Name>Японских иен</Name><Value>69,2498</Value></Valute></ValCurs>"
            ]
          },
          "metadata": {
            "tags": []
          },
          "execution_count": 2
        }
      ]
    },
    {
      "cell_type": "code",
      "metadata": {
        "id": "1AgXqyKzWlVI",
        "colab_type": "code",
        "colab": {
          "base_uri": "https://localhost:8080/",
          "height": 35
        },
        "outputId": "f1195dff-e0e7-40c6-dc61-b8822f97128d"
      },
      "source": [
        "soup.find('CharCode', text='USD').find_next_sibling('Value').string"
      ],
      "execution_count": 4,
      "outputs": [
        {
          "output_type": "execute_result",
          "data": {
            "application/vnd.google.colaboratory.intrinsic+json": {
              "type": "string"
            },
            "text/plain": [
              "'74,1586'"
            ]
          },
          "metadata": {
            "tags": []
          },
          "execution_count": 4
        }
      ]
    },
    {
      "cell_type": "code",
      "metadata": {
        "id": "mOexgyILXlLG",
        "colab_type": "code",
        "colab": {
          "base_uri": "https://localhost:8080/",
          "height": 35
        },
        "outputId": "279646d7-d936-4d1b-ef85-392a4ddda26c"
      },
      "source": [
        "soup.find(ID='R01239').Value.string"
      ],
      "execution_count": 3,
      "outputs": [
        {
          "output_type": "execute_result",
          "data": {
            "application/vnd.google.colaboratory.intrinsic+json": {
              "type": "string"
            },
            "text/plain": [
              "'86,5011'"
            ]
          },
          "metadata": {
            "tags": []
          },
          "execution_count": 3
        }
      ]
    },
    {
      "cell_type": "markdown",
      "metadata": {
        "id": "M9bejSwGtm8w",
        "colab_type": "text"
      },
      "source": [
        "#OpenWeatherMap\n",
        "https://openweathermap.org/api"
      ]
    },
    {
      "cell_type": "code",
      "metadata": {
        "id": "evQa26L8rQbw",
        "colab_type": "code",
        "colab": {
          "base_uri": "https://localhost:8080/",
          "height": 70
        },
        "outputId": "71c9de92-fa39-4aed-bd1f-14a31fd53944"
      },
      "source": [
        "resp = requests.get(\n",
        "    \"http://api.openweathermap.org/data/2.5/weather\",\n",
        "    params={\n",
        "        \"q\": \"Moscow\",\n",
        "        \"APPID\": \"a4a746e4c098648a567f71231d6cb631\",\n",
        "        \"mode\": \"xml\",\n",
        "        \"units\": \"metric\"\n",
        "    }\n",
        ")\n",
        "soup = BeautifulSoup(resp.content, 'xml')\n",
        "soup"
      ],
      "execution_count": 5,
      "outputs": [
        {
          "output_type": "execute_result",
          "data": {
            "text/plain": [
              "<?xml version=\"1.0\" encoding=\"utf-8\"?>\n",
              "<current><city id=\"524901\" name=\"Moscow\"><coord lat=\"55.75\" lon=\"37.62\"/><country>RU</country><timezone>10800</timezone><sun rise=\"2020-08-05T01:42:43\" set=\"2020-08-05T17:28:15\"/></city><temperature max=\"25\" min=\"24\" unit=\"celsius\" value=\"24.67\"/><feels_like unit=\"celsius\" value=\"22.37\"/><humidity unit=\"%\" value=\"44\"/><pressure unit=\"hPa\" value=\"1020\"/><wind><speed name=\"Gentle Breeze\" unit=\"m/s\" value=\"4\"/><gusts/><direction code=\"SSW\" name=\"South-southwest\" value=\"200\"/></wind><clouds name=\"overcast clouds\" value=\"100\"/><visibility value=\"10000\"/><precipitation mode=\"no\"/><weather icon=\"04d\" number=\"804\" value=\"overcast clouds\"/><lastupdate value=\"2020-08-05T08:29:15\"/></current>"
            ]
          },
          "metadata": {
            "tags": []
          },
          "execution_count": 5
        }
      ]
    },
    {
      "cell_type": "code",
      "metadata": {
        "id": "y5wPkd9fv9A9",
        "colab_type": "code",
        "colab": {
          "base_uri": "https://localhost:8080/",
          "height": 35
        },
        "outputId": "6d3a0d7a-85f7-4d70-ff07-ed12ada6e2c3"
      },
      "source": [
        "soup.temperature['value']"
      ],
      "execution_count": 6,
      "outputs": [
        {
          "output_type": "execute_result",
          "data": {
            "application/vnd.google.colaboratory.intrinsic+json": {
              "type": "string"
            },
            "text/plain": [
              "'24.67'"
            ]
          },
          "metadata": {
            "tags": []
          },
          "execution_count": 6
        }
      ]
    },
    {
      "cell_type": "code",
      "metadata": {
        "id": "T6jdpxS7wOcK",
        "colab_type": "code",
        "colab": {
          "base_uri": "https://localhost:8080/",
          "height": 437
        },
        "outputId": "61ae3679-9c6d-4ca0-b092-dadaf0e03a08"
      },
      "source": [
        "resp = requests.get(\n",
        "    \"http://api.openweathermap.org/data/2.5/weather\",\n",
        "    params={\n",
        "        \"q\": \"Moscow\",\n",
        "        \"APPID\": \"a4a746e4c098648a567f71231d6cb631\",\n",
        "        \"mode\": \"json\",\n",
        "        \"units\": \"metric\"\n",
        "    }\n",
        ")\n",
        "data = resp.json()\n",
        "data"
      ],
      "execution_count": 7,
      "outputs": [
        {
          "output_type": "execute_result",
          "data": {
            "text/plain": [
              "{'base': 'stations',\n",
              " 'clouds': {'all': 100},\n",
              " 'cod': 200,\n",
              " 'coord': {'lat': 55.75, 'lon': 37.62},\n",
              " 'dt': 1596618556,\n",
              " 'id': 524901,\n",
              " 'main': {'feels_like': 23.07,\n",
              "  'humidity': 44,\n",
              "  'pressure': 1020,\n",
              "  'temp': 24.67,\n",
              "  'temp_max': 25,\n",
              "  'temp_min': 24},\n",
              " 'name': 'Moscow',\n",
              " 'sys': {'country': 'RU',\n",
              "  'id': 9029,\n",
              "  'sunrise': 1596591763,\n",
              "  'sunset': 1596648495,\n",
              "  'type': 1},\n",
              " 'timezone': 10800,\n",
              " 'visibility': 10000,\n",
              " 'weather': [{'description': 'overcast clouds',\n",
              "   'icon': '04d',\n",
              "   'id': 804,\n",
              "   'main': 'Clouds'}],\n",
              " 'wind': {'deg': 190, 'speed': 3}}"
            ]
          },
          "metadata": {
            "tags": []
          },
          "execution_count": 7
        }
      ]
    },
    {
      "cell_type": "code",
      "metadata": {
        "id": "SvxJzW1A4mxk",
        "colab_type": "code",
        "colab": {
          "base_uri": "https://localhost:8080/",
          "height": 34
        },
        "outputId": "845cef0d-1a3c-4fe0-ec35-8bfd02231650"
      },
      "source": [
        "data['main']['temp']"
      ],
      "execution_count": 8,
      "outputs": [
        {
          "output_type": "execute_result",
          "data": {
            "text/plain": [
              "24.67"
            ]
          },
          "metadata": {
            "tags": []
          },
          "execution_count": 8
        }
      ]
    },
    {
      "cell_type": "markdown",
      "metadata": {
        "id": "U08P893h47um",
        "colab_type": "text"
      },
      "source": [
        "#VK\n",
        "https://vk.com/dev/manuals"
      ]
    },
    {
      "cell_type": "code",
      "metadata": {
        "id": "MRmJ9mKo47VG",
        "colab_type": "code",
        "colab": {
          "base_uri": "https://localhost:8080/",
          "height": 101
        },
        "outputId": "3d3447d3-6b82-4bc9-c0e4-56a4563e92c2"
      },
      "source": [
        "resp = requests.get(\n",
        "    \"https://api.vk.com/method/users.get\",\n",
        "    params={\n",
        "        \"user_id\": \"2\",\n",
        "        \"v\": \"5.68\",\n",
        "        \"access_token\": \"<token>\",\n",
        "        \"fields\": \"verified, sex\"\n",
        "    }\n",
        ")\n",
        "resp.json()"
      ],
      "execution_count": 26,
      "outputs": [
        {
          "output_type": "execute_result",
          "data": {
            "text/plain": [
              "{'response': [{'first_name': 'Alexandra',\n",
              "   'id': 2,\n",
              "   'last_name': 'Vladimirova',\n",
              "   'sex': 1,\n",
              "   'verified': 0}]}"
            ]
          },
          "metadata": {
            "tags": []
          },
          "execution_count": 26
        }
      ]
    },
    {
      "cell_type": "code",
      "metadata": {
        "id": "foMSFPtK4s8k",
        "colab_type": "code",
        "colab": {
          "base_uri": "https://localhost:8080/",
          "height": 34
        },
        "outputId": "20125933-99be-4ae3-fe30-8a55714c12d8"
      },
      "source": [
        "import vk\n",
        "session = vk.Session()\n",
        "api = vk.API(session)\n",
        "api.users.get(\n",
        "    user_ids=1, \n",
        "    v=5.68,\n",
        "    access_token='<token>')"
      ],
      "execution_count": 31,
      "outputs": [
        {
          "output_type": "execute_result",
          "data": {
            "text/plain": [
              "[{'first_name': 'Pavel', 'id': 1, 'last_name': 'Durov'}]"
            ]
          },
          "metadata": {
            "tags": []
          },
          "execution_count": 31
        }
      ]
    },
    {
      "cell_type": "code",
      "metadata": {
        "id": "sXzPz0wnCuVx",
        "colab_type": "code",
        "colab": {}
      },
      "source": [
        "session = vk.AuthSession(\n",
        "    app_id=<>,\n",
        "    user_login=\"<>\",\n",
        "    user_password=\"<>\"\n",
        ")\n",
        "api = vk.API(session)\n",
        "api.groups.get(extended=1)"
      ],
      "execution_count": null,
      "outputs": []
    }
  ]
}